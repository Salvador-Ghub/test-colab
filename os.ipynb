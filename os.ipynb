{
  "nbformat": 4,
  "nbformat_minor": 0,
  "metadata": {
    "colab": {
      "provenance": [],
      "authorship_tag": "ABX9TyPsf6F/5ogkcDR8iCC1Qwbe",
      "include_colab_link": true
    },
    "kernelspec": {
      "name": "python3",
      "display_name": "Python 3"
    },
    "language_info": {
      "name": "python"
    }
  },
  "cells": [
    {
      "cell_type": "markdown",
      "metadata": {
        "id": "view-in-github",
        "colab_type": "text"
      },
      "source": [
        "<a href=\"https://colab.research.google.com/github/Salvador-Ghub/test-colab/blob/os/os.ipynb\" target=\"_parent\"><img src=\"https://colab.research.google.com/assets/colab-badge.svg\" alt=\"Open In Colab\"/></a>"
      ]
    },
    {
      "cell_type": "code",
      "execution_count": null,
      "metadata": {
        "id": "K0bCYcXcrn-B"
      },
      "outputs": [],
      "source": []
    },
    {
      "cell_type": "code",
      "source": [
        "import os\n",
        "\n",
        "print(os.getcwd())\n",
        "\n"
      ],
      "metadata": {
        "colab": {
          "base_uri": "https://localhost:8080/"
        },
        "id": "zKwa1IYUr-sr",
        "outputId": "733a3723-46d5-4932-d53d-6c9e801abe78"
      },
      "execution_count": 4,
      "outputs": [
        {
          "output_type": "stream",
          "name": "stdout",
          "text": [
            "/content\n"
          ]
        }
      ]
    },
    {
      "cell_type": "code",
      "source": [
        "import os\n",
        "print(os.listdir())"
      ],
      "metadata": {
        "colab": {
          "base_uri": "https://localhost:8080/"
        },
        "id": "wCNECFBYtNCF",
        "outputId": "db065213-0095-48ec-e14d-5956fbf27d8c"
      },
      "execution_count": 8,
      "outputs": [
        {
          "output_type": "stream",
          "name": "stdout",
          "text": [
            "['.config', 'sample_data']\n"
          ]
        }
      ]
    },
    {
      "cell_type": "code",
      "source": [
        "import os\n",
        "\n",
        "names=sorted([name for name in os.listdir() if name.startswith('e')])\n",
        "print(names)"
      ],
      "metadata": {
        "colab": {
          "base_uri": "https://localhost:8080/"
        },
        "id": "J5PXqH2nuHGV",
        "outputId": "20b5f124-8e74-4951-d4b5-32dff6dff435"
      },
      "execution_count": 12,
      "outputs": [
        {
          "output_type": "stream",
          "name": "stdout",
          "text": [
            "[]\n"
          ]
        }
      ]
    },
    {
      "cell_type": "code",
      "source": [
        "import os\n",
        "\n",
        "print(os.getcwd())\n",
        "os.mkdir('images')\n",
        "os.chdir('images')\n",
        "\n",
        "print(os.getcwd())"
      ],
      "metadata": {
        "colab": {
          "base_uri": "https://localhost:8080/"
        },
        "id": "XpxY0R-RwVW-",
        "outputId": "6774ea06-a886-4db5-a1bd-5c5404a0bd93"
      },
      "execution_count": 20,
      "outputs": [
        {
          "output_type": "stream",
          "name": "stdout",
          "text": [
            "/content/images\n",
            "/content/images/images\n"
          ]
        }
      ]
    },
    {
      "cell_type": "code",
      "source": [
        "import os\n",
        "os.mkdir('/content/documents')\n",
        "os.chdir('/content/documents')\n",
        "\n",
        "dirnames=[f'{str(i).zfill(2)}_sales' for i in range(1,13)]\n",
        "\n",
        "for dirname in dirnames:\n",
        "  path=os.path.join('/content/documents', dirname)\n",
        "  os.mkdir(path)\n",
        "\n",
        "print(sorted(os.listdir('/content/documents')))"
      ],
      "metadata": {
        "colab": {
          "base_uri": "https://localhost:8080/"
        },
        "id": "_-xoLQA8ya5B",
        "outputId": "6982873a-04e5-4383-aedd-542226ea1e28"
      },
      "execution_count": 28,
      "outputs": [
        {
          "output_type": "stream",
          "name": "stdout",
          "text": [
            "['01_sales', '02_sales', '03_sales', '04_sales', '05_sales', '06_sales', '07_sales', '08_sales', '09_sales', '10_sales', '11_sales', '12_sales']\n"
          ]
        }
      ]
    },
    {
      "cell_type": "markdown",
      "source": [
        "Using the built-in os module create a directory called images. Then create two directories in this directory named images_png and images_jpg. Before creating each directory, check if such directory exists."
      ],
      "metadata": {
        "id": "tpuO42j16LzZ"
      }
    },
    {
      "cell_type": "code",
      "source": [
        "import os\n",
        "\n",
        "base_dir = 'images'\n",
        "png_dir = os.path.join(base_dir, 'images_png')\n",
        "jpg_dir = os.path.join(base_dir, 'images_jpg')\n",
        "\n",
        "if not os.path.exists(base_dir):\n",
        "    os.mkdir(base_dir)\n",
        "\n",
        "if not os.path.exists(png_dir):\n",
        "    os.mkdir(png_dir)\n",
        "\n",
        "if not os.path.exists(jpg_dir):\n",
        "    os.mkdir(jpg_dir)\n",
        "\n",
        "for root, dirs, files in os.walk(base_dir):\n",
        "    print(root)"
      ],
      "metadata": {
        "colab": {
          "base_uri": "https://localhost:8080/"
        },
        "id": "fqN7LkKx6K1Z",
        "outputId": "80b21da4-cbdc-4d8e-edd2-2138bf2ee4fe"
      },
      "execution_count": 36,
      "outputs": [
        {
          "output_type": "stream",
          "name": "stdout",
          "text": [
            "images\n",
            "images/images_jpg\n",
            "images/images_png\n"
          ]
        }
      ]
    }
  ]
}