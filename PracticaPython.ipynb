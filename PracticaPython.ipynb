{
  "nbformat": 4,
  "nbformat_minor": 0,
  "metadata": {
    "colab": {
      "provenance": [],
      "authorship_tag": "ABX9TyPD9AvuoOvfk+cdixH/fzeq",
      "include_colab_link": true
    },
    "kernelspec": {
      "name": "python3",
      "display_name": "Python 3"
    },
    "language_info": {
      "name": "python"
    }
  },
  "cells": [
    {
      "cell_type": "markdown",
      "metadata": {
        "id": "view-in-github",
        "colab_type": "text"
      },
      "source": [
        "<a href=\"https://colab.research.google.com/github/Salvador-Ghub/test-colab/blob/ejfechas/PracticaPython.ipynb\" target=\"_parent\"><img src=\"https://colab.research.google.com/assets/colab-badge.svg\" alt=\"Open In Colab\"/></a>"
      ]
    },
    {
      "cell_type": "code",
      "execution_count": null,
      "metadata": {
        "colab": {
          "base_uri": "https://localhost:8080/"
        },
        "id": "AYJrX3TgDCpj",
        "outputId": "15a785c0-9d69-4718-c13d-30fc3e594fb4"
      },
      "outputs": [
        {
          "output_type": "stream",
          "name": "stdout",
          "text": [
            "hello world\n"
          ]
        }
      ],
      "source": [
        "print('hello world')"
      ]
    },
    {
      "cell_type": "code",
      "source": [
        "print('hello github')"
      ],
      "metadata": {
        "id": "k3FBsZK3EfuM",
        "outputId": "81d3df71-06ee-4c49-86ad-3a1dd64ce7c0",
        "colab": {
          "base_uri": "https://localhost:8080/"
        }
      },
      "execution_count": null,
      "outputs": [
        {
          "output_type": "stream",
          "name": "stdout",
          "text": [
            "hello github\n"
          ]
        }
      ]
    },
    {
      "cell_type": "code",
      "source": [
        "import datetime as dt\n",
        "\n",
        "\n",
        "a=dt.date(2021,1,1)\n",
        "b=dt.date(2021,7,31)\n",
        "c=dt.date(1990,5,7)\n",
        "\n",
        "\n",
        "print(a)\n",
        "print(b)\n",
        "print(c)\n",
        "\n",
        "x=dt.time(12,0,0)\n",
        "y=dt.time(6,30,0)\n",
        "z=dt.time(9,15,0)\n",
        "\n",
        "\n",
        "print(x)\n",
        "print(y)\n",
        "print(z)"
      ],
      "metadata": {
        "colab": {
          "base_uri": "https://localhost:8080/"
        },
        "id": "jFkk44bydCaz",
        "outputId": "d6a11172-8a95-435c-9a45-c0e148b5063e"
      },
      "execution_count": 4,
      "outputs": [
        {
          "output_type": "stream",
          "name": "stdout",
          "text": [
            "2021-01-01\n",
            "2021-07-31\n",
            "1990-05-07\n",
            "12:00:00\n",
            "06:30:00\n",
            "09:15:00\n"
          ]
        }
      ]
    },
    {
      "cell_type": "code",
      "source": [
        "\"help(dt.datetime)\"\n",
        "\n",
        "x=dt.datetime(2020, 7, 20, 11, 30, 0)\n",
        "y=dt.datetime(1990, 3, 10, 12, 0, 0)\n",
        "z=dt.datetime(2021, 1, 1, 0, 0, 0)\n",
        "\n",
        "print(x)\n",
        "print(y)\n",
        "print(z)"
      ],
      "metadata": {
        "id": "SaLyrTgreTEn",
        "outputId": "10eb1f65-683a-4a4a-cb03-9dcb650b11fe",
        "colab": {
          "base_uri": "https://localhost:8080/"
        }
      },
      "execution_count": null,
      "outputs": [
        {
          "output_type": "stream",
          "name": "stdout",
          "text": [
            "2020-07-20 11:30:00\n",
            "1990-03-10 12:00:00\n",
            "2021-01-01 00:00:00\n"
          ]
        }
      ]
    },
    {
      "cell_type": "code",
      "source": [
        "\n",
        "a=dt.date(2020,7,21)\n",
        "b=dt.date(2020,12,31)\n",
        "\n",
        "c=str(a-b)\n",
        "c=c.split(' ')[0]\n",
        "c=abs(int(c))\n",
        "print('Number of days:',c)\n",
        "\n",
        "d1 = dt.date(2020, 7, 21)\n",
        "d2 = dt.date(2020, 12, 31)\n",
        "diff = abs((d1 - d2).days)\n",
        "print(f'Number of days: {diff}')"
      ],
      "metadata": {
        "id": "6P0g-05LfliC",
        "outputId": "14787940-9771-4495-9b0c-3e9e5c7b7aa4",
        "colab": {
          "base_uri": "https://localhost:8080/"
        }
      },
      "execution_count": null,
      "outputs": [
        {
          "output_type": "stream",
          "name": "stdout",
          "text": [
            "Number of days: 163\n",
            "Number of days: 163\n"
          ]
        }
      ]
    },
    {
      "cell_type": "code",
      "source": [
        "import datetime\n",
        "\n",
        "x=dt.datetime(2020, 7, 21, 7, 39, 39)\n",
        "now = datetime.datetime.now()\n",
        "end_of_year = datetime.datetime(now.year + 1, 1, 1)\n",
        "diff = end_of_year - now\n",
        "print(f'Until the end of the year: {diff}')"
      ],
      "metadata": {
        "colab": {
          "base_uri": "https://localhost:8080/"
        },
        "id": "tCspd0Cir6Oy",
        "outputId": "bcd86193-7692-4e01-fe47-6b602835ec36"
      },
      "execution_count": 19,
      "outputs": [
        {
          "output_type": "stream",
          "name": "stdout",
          "text": [
            "Until the end of the year: 230 days, 9:06:09.311217\n"
          ]
        }
      ]
    }
  ]
}